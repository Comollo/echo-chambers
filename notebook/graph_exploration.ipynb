{
 "cells": [
  {
   "cell_type": "code",
   "execution_count": null,
   "metadata": {},
   "outputs": [],
   "source": [
    "# import libraries\n",
    "import networkx as nx\n",
    "import pandas as pd\n",
    "import os\n",
    "import json\n",
    "\n",
    "from networkx.algorithms.community.quality import coverage, modularity"
   ]
  },
  {
   "cell_type": "markdown",
   "metadata": {},
   "source": [
    "### function"
   ]
  },
  {
   "cell_type": "code",
   "execution_count": null,
   "metadata": {},
   "outputs": [],
   "source": [
    "def filter_graph(graph, thresh):\n",
    "    remove = [node for node,degree in dict(graph.degree()).items() if degree < thresh]\n",
    "    return remove"
   ]
  },
  {
   "cell_type": "code",
   "execution_count": null,
   "metadata": {},
   "outputs": [],
   "source": [
    "def to_undirected(graph):\n",
    "    if nx.is_directed(graph):\n",
    "        return nx.to_undirected(graph)"
   ]
  },
  {
   "cell_type": "code",
   "execution_count": null,
   "metadata": {},
   "outputs": [],
   "source": [
    "def is_connected(graph):\n",
    "    if nx.is_directed:\n",
    "        undirected = nx.to_undirected(graph)\n",
    "    else:\n",
    "        undirected = graph\n",
    "    print('Is connected:', nx.is_connected(undirected))"
   ]
  },
  {
   "cell_type": "code",
   "execution_count": null,
   "metadata": {},
   "outputs": [],
   "source": [
    "def get_info(graph):\n",
    "    print(nx.info(graph))\n",
    "    print('Is weighted:', nx.is_weighted(graph))\n",
    "    print('Is directed:', nx.is_directed(graph))\n",
    "    is_connected(graph)"
   ]
  },
  {
   "cell_type": "code",
   "execution_count": null,
   "metadata": {},
   "outputs": [],
   "source": [
    "def get_modularity_and_coverage(graph, communities):\n",
    "    cov = coverage(graph, communities)\n",
    "    mod = modularity(graph, communities)\n",
    "    return {'coverage': cov, 'modularity': mod}"
   ]
  },
  {
   "cell_type": "code",
   "execution_count": null,
   "metadata": {},
   "outputs": [],
   "source": [
    "def write_gexf(graph, name, path):\n",
    "    nx.write_gexf(graph, os.path.join(path, name))\n",
    "    print(f'{name} written')"
   ]
  },
  {
   "cell_type": "code",
   "execution_count": null,
   "metadata": {},
   "outputs": [],
   "source": [
    "def read_json_to_dict(filename: str, path: str):\n",
    "    if not filename.endswith('.json'):\n",
    "        filename = filename + '.json'\n",
    "    with open(os.path.join(path, filename)) as json_file:\n",
    "        data = json.load(json_file)\n",
    "    return data"
   ]
  },
  {
   "cell_type": "markdown",
   "metadata": {},
   "source": [
    "## Read and analyse graph"
   ]
  },
  {
   "cell_type": "code",
   "execution_count": null,
   "metadata": {},
   "outputs": [],
   "source": [
    "# graph = nx.read_gml(\"../dataset_covid/Final_Graph_Covid.gml\")\n",
    "path = \"../dataset_covid\"\n",
    "name = \"Covid.gexf\"\n",
    "graph_path = os.path.join(path, name)\n",
    "graph = nx.read_gexf(graph_path)"
   ]
  },
  {
   "cell_type": "code",
   "execution_count": null,
   "metadata": {},
   "outputs": [],
   "source": [
    "# info\n",
    "get_info(graph)"
   ]
  },
  {
   "cell_type": "code",
   "execution_count": null,
   "metadata": {},
   "outputs": [],
   "source": [
    "degrees = sorted(graph.degree, key=lambda x: x[1], reverse=True)"
   ]
  },
  {
   "cell_type": "code",
   "execution_count": null,
   "metadata": {},
   "outputs": [],
   "source": [
    "# degrees"
   ]
  },
  {
   "cell_type": "code",
   "execution_count": null,
   "metadata": {},
   "outputs": [],
   "source": [
    "node_to_remove = filter_graph(graph,2)"
   ]
  },
  {
   "cell_type": "code",
   "execution_count": null,
   "metadata": {},
   "outputs": [],
   "source": [
    "len(node_to_remove)"
   ]
  },
  {
   "cell_type": "code",
   "execution_count": null,
   "metadata": {},
   "outputs": [],
   "source": [
    "copied_graph = graph.copy()\n",
    "copied_graph.remove_nodes_from(node_to_remove)\n",
    "get_info(copied_graph)"
   ]
  },
  {
   "cell_type": "code",
   "execution_count": null,
   "metadata": {},
   "outputs": [],
   "source": [
    "if nx.is_connected(copied_graph):\n",
    "    write_gexf(copied_graph, 'small_covid.gexf', path)\n",
    "else:\n",
    "    print('Graph not connected')"
   ]
  },
  {
   "cell_type": "markdown",
   "metadata": {},
   "source": [
    "### Read through pandas"
   ]
  },
  {
   "cell_type": "code",
   "execution_count": null,
   "metadata": {},
   "outputs": [],
   "source": [
    "# Read csv and assign weight\n",
    "edges_unweightened = pd.read_csv(\"../dataset_covid/user_edgelist.csv\",delimiter=\";\")\n",
    "edges_unweightened[\"w\"] = 1\n",
    "edges_weightened = edges_unweightened.groupby([\"source\",\"target\"]).count().reset_index()"
   ]
  },
  {
   "cell_type": "code",
   "execution_count": null,
   "metadata": {
    "scrolled": true
   },
   "outputs": [],
   "source": [
    "# Get graph and its connected component\n",
    "graph_edgelist = nx.from_pandas_edgelist(edges_weightened, edge_attr=\"w\", create_using=nx.Graph)\n",
    "largest_cc = max(nx.connected_components(graph_edgelist), key=len)\n",
    "ccn_graph = graph_edgelist.subgraph(largest_cc)\n",
    "get_info(ccn_graph)"
   ]
  },
  {
   "cell_type": "code",
   "execution_count": null,
   "metadata": {},
   "outputs": [],
   "source": [
    "# Write graph\n",
    "if nx.is_connected(ccn_graph):\n",
    "    write_gexf(ccn_graph, \"Connected_covid.gexf\")\n",
    "else:\n",
    "    print('Graph not connected')"
   ]
  },
  {
   "cell_type": "markdown",
   "metadata": {},
   "source": [
    "### Get modularity and coverage"
   ]
  },
  {
   "cell_type": "code",
   "execution_count": null,
   "metadata": {},
   "outputs": [],
   "source": [
    "communities_path =  \"../community/\"\n",
    "graphs_to_evaluate = [\"Covid\",\n",
    "                      \"gunsense_followers_network_part_largest_CC\",\n",
    "                      \"netanyahu_followers_network_part_largest_CC\",\n",
    "                      \"russia_march_followers_network_part_largest_CC\"\n",
    "                     ]\n",
    "graphs_path = \"../analysis_paper/\""
   ]
  },
  {
   "cell_type": "code",
   "execution_count": null,
   "metadata": {},
   "outputs": [],
   "source": [
    "cov_mod = dict()\n",
    "for g in graphs_to_evaluate:\n",
    "    read_graph = nx.read_gexf(os.path.join(graphs_path, g+\".gexf\"))\n",
    "    community = read_json_to_dict(g+\"_fluidc.json\", communities_path)\n",
    "    result = get_modularity_and_coverage(read_graph, community.values())\n",
    "    cov_mod[g] = result\n",
    "    print(f'{g} done')"
   ]
  },
  {
   "cell_type": "code",
   "execution_count": null,
   "metadata": {},
   "outputs": [],
   "source": [
    "coverage_modularity_result = pd.DataFrame.from_dict(cov_mod)\n",
    "coverage_modularity_result.index.names = ['Metric']\n",
    "coverage_modularity_result"
   ]
  },
  {
   "cell_type": "code",
   "execution_count": null,
   "metadata": {},
   "outputs": [],
   "source": [
    "# write csv to notebook folder\n",
    "coverage_modularity_result.to_csv('coverage_modularity.csv')"
   ]
  }
 ],
 "metadata": {
  "kernelspec": {
   "display_name": "echo-chambers",
   "language": "python",
   "name": "echo-chambers"
  },
  "language_info": {
   "codemirror_mode": {
    "name": "ipython",
    "version": 3
   },
   "file_extension": ".py",
   "mimetype": "text/x-python",
   "name": "python",
   "nbconvert_exporter": "python",
   "pygments_lexer": "ipython3",
   "version": "3.7.6"
  }
 },
 "nbformat": 4,
 "nbformat_minor": 4
}
