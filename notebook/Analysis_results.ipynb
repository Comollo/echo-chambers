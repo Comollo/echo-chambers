{
 "cells": [
  {
   "cell_type": "markdown",
   "metadata": {},
   "source": [
    "# Analysis of Controversy"
   ]
  },
  {
   "cell_type": "code",
   "execution_count": 1,
   "metadata": {},
   "outputs": [],
   "source": [
    "#Required library\n",
    "import pandas as pd\n",
    "import numpy as np\n",
    "import matplotlib\n",
    "import matplotlib.pyplot as plt\n",
    "import matplotlib.lines as mlines\n",
    "import seaborn as sns\n",
    "import networkx as nx\n",
    "\n",
    "from os import listdir, getcwd, chdir\n",
    "from functools import reduce\n",
    "from itertools import islice\n",
    "from networkx.algorithms.community.quality import coverage, modularity"
   ]
  },
  {
   "cell_type": "code",
   "execution_count": 2,
   "metadata": {},
   "outputs": [],
   "source": [
    "#set font for matplotlib\n",
    "matplotlib.rcParams['font.sans-serif'] = \"Computer Modern Roman\"\n",
    "matplotlib.rcParams['font.family'] = \"serif\""
   ]
  },
  {
   "cell_type": "markdown",
   "metadata": {},
   "source": [
    "## Get communities info"
   ]
  },
  {
   "cell_type": "code",
   "execution_count": 3,
   "metadata": {},
   "outputs": [
    {
     "data": {
      "text/plain": [
       "['baltimore_followers_network_part_largest_CC_fluidc_0.csv',\n",
       " 'baltimore_followers_network_part_largest_CC_fluidc_1.csv',\n",
       " 'beefban_followers_network_part_largest_CC_fluidc_0.csv',\n",
       " 'beefban_followers_network_part_largest_CC_fluidc_1.csv',\n",
       " 'ff_followers_network_part_largest_CC_fluidc_0.csv',\n",
       " 'ff_followers_network_part_largest_CC_fluidc_1.csv',\n",
       " 'germanwings_followers_network_part_largest_CC_fluidc_0.csv',\n",
       " 'germanwings_followers_network_part_largest_CC_fluidc_1.csv',\n",
       " 'gunsense_followers_network_part_largest_CC_fluidc_0.csv',\n",
       " 'gunsense_followers_network_part_largest_CC_fluidc_1.csv',\n",
       " 'indiana_followers_network_part_largest_CC_fluidc_0.csv',\n",
       " 'indiana_followers_network_part_largest_CC_fluidc_1.csv',\n",
       " 'indiasdaughter_followers_network_part_largest_CC_fluidc_0.csv',\n",
       " 'indiasdaughter_followers_network_part_largest_CC_fluidc_1.csv',\n",
       " 'jurassicworld_followers_network_part_largest_CC_fluidc_0.csv',\n",
       " 'jurassicworld_followers_network_part_largest_CC_fluidc_1.csv',\n",
       " 'leadersdebate_followers_network_part_largest_CC_fluidc_0.csv',\n",
       " 'leadersdebate_followers_network_part_largest_CC_fluidc_1.csv',\n",
       " 'mothersday_followers_network_part_largest_CC_fluidc_0.csv',\n",
       " 'mothersday_followers_network_part_largest_CC_fluidc_1.csv',\n",
       " 'nemtsov_followers_network_part_largest_CC_fluidc_0.csv',\n",
       " 'nemtsov_followers_network_part_largest_CC_fluidc_1.csv',\n",
       " 'nepal_followers_network_part_largest_CC_fluidc_0.csv',\n",
       " 'nepal_followers_network_part_largest_CC_fluidc_1.csv',\n",
       " 'netanyahu_followers_network_part_largest_CC_fluidc_0.csv',\n",
       " 'netanyahu_followers_network_part_largest_CC_fluidc_1.csv',\n",
       " 'onedirection_followers_network_part_largest_CC_fluidc_0.csv',\n",
       " 'onedirection_followers_network_part_largest_CC_fluidc_1.csv',\n",
       " 'russia_march_followers_network_part_largest_CC_fluidc_0.csv',\n",
       " 'russia_march_followers_network_part_largest_CC_fluidc_1.csv',\n",
       " 'sxsw_followers_network_part_largest_CC_fluidc_0.csv',\n",
       " 'sxsw_followers_network_part_largest_CC_fluidc_1.csv',\n",
       " 'ukraine_followers_network_part_largest_CC_fluidc_0.csv',\n",
       " 'ukraine_followers_network_part_largest_CC_fluidc_1.csv',\n",
       " 'ultralive_followers_network_part_largest_CC_fluidc_0.csv',\n",
       " 'ultralive_followers_network_part_largest_CC_fluidc_1.csv']"
      ]
     },
     "execution_count": 3,
     "metadata": {},
     "output_type": "execute_result"
    }
   ],
   "source": [
    "path = \"C:/Users/comot/IdeaProjects/echo-chambers/community\"\n",
    "chdir(path)\n",
    "files_communities: list = listdir()\n",
    "files_communities"
   ]
  },
  {
   "cell_type": "code",
   "execution_count": 4,
   "metadata": {},
   "outputs": [],
   "source": [
    "communities = [\"baltimore\",\n",
    "               \"gunsense\",\n",
    "               \"netanyahu\",\n",
    "               \"ukraine\",\n",
    "               \"russia\",\n",
    "               \"sxsw\",\n",
    "               \"germanwings\",\n",
    "               \"ultralive\",\n",
    "               \"onedirection\"]\n",
    "\n",
    "communities_to_analyse = []\n",
    "for c in communities:\n",
    "    for f in files_communities:\n",
    "        if c in f:\n",
    "            communities_to_analyse.append(f)"
   ]
  },
  {
   "cell_type": "code",
   "execution_count": 5,
   "metadata": {
    "scrolled": true
   },
   "outputs": [
    {
     "data": {
      "text/plain": [
       "(18,\n",
       " ['baltimore_followers_network_part_largest_CC_fluidc_0.csv',\n",
       "  'baltimore_followers_network_part_largest_CC_fluidc_1.csv',\n",
       "  'gunsense_followers_network_part_largest_CC_fluidc_0.csv',\n",
       "  'gunsense_followers_network_part_largest_CC_fluidc_1.csv',\n",
       "  'netanyahu_followers_network_part_largest_CC_fluidc_0.csv',\n",
       "  'netanyahu_followers_network_part_largest_CC_fluidc_1.csv',\n",
       "  'ukraine_followers_network_part_largest_CC_fluidc_0.csv',\n",
       "  'ukraine_followers_network_part_largest_CC_fluidc_1.csv',\n",
       "  'russia_march_followers_network_part_largest_CC_fluidc_0.csv',\n",
       "  'russia_march_followers_network_part_largest_CC_fluidc_1.csv',\n",
       "  'sxsw_followers_network_part_largest_CC_fluidc_0.csv',\n",
       "  'sxsw_followers_network_part_largest_CC_fluidc_1.csv',\n",
       "  'germanwings_followers_network_part_largest_CC_fluidc_0.csv',\n",
       "  'germanwings_followers_network_part_largest_CC_fluidc_1.csv',\n",
       "  'ultralive_followers_network_part_largest_CC_fluidc_0.csv',\n",
       "  'ultralive_followers_network_part_largest_CC_fluidc_1.csv',\n",
       "  'onedirection_followers_network_part_largest_CC_fluidc_0.csv',\n",
       "  'onedirection_followers_network_part_largest_CC_fluidc_1.csv'])"
      ]
     },
     "execution_count": 5,
     "metadata": {},
     "output_type": "execute_result"
    }
   ],
   "source": [
    "len(communities_to_analyse), communities_to_analyse"
   ]
  },
  {
   "cell_type": "code",
   "execution_count": 6,
   "metadata": {},
   "outputs": [],
   "source": [
    "def read_communities(file):\n",
    "    df = pd.read_csv(file, header=None, names = [\"nodes\"])\n",
    "    return set(df['nodes'].astype(str))"
   ]
  },
  {
   "cell_type": "code",
   "execution_count": 7,
   "metadata": {},
   "outputs": [],
   "source": [
    "communities_dict = {key: read_communities(key) for key in communities_to_analyse}"
   ]
  },
  {
   "cell_type": "code",
   "execution_count": 8,
   "metadata": {},
   "outputs": [
    {
     "data": {
      "text/plain": [
       "1441"
      ]
     },
     "execution_count": 8,
     "metadata": {},
     "output_type": "execute_result"
    }
   ],
   "source": [
    "len(communities_dict[\"baltimore_followers_network_part_largest_CC_fluidc_0.csv\"]) + len(communities_dict[\"baltimore_followers_network_part_largest_CC_fluidc_1.csv\"])"
   ]
  },
  {
   "cell_type": "code",
   "execution_count": 9,
   "metadata": {},
   "outputs": [],
   "source": [
    "def get_communities(communities_dict: dict):\n",
    "    communities = []\n",
    "    while len(communities_dict.keys()) != 0:\n",
    "        tmp = dict(islice(communities_dict.items(), 2))\n",
    "        communities.append(tmp)\n",
    "        for key in tmp.keys():\n",
    "            communities_dict.pop(key, None)\n",
    "    return communities"
   ]
  },
  {
   "cell_type": "code",
   "execution_count": 10,
   "metadata": {},
   "outputs": [],
   "source": [
    "communities_final = get_communities(communities_dict)"
   ]
  },
  {
   "cell_type": "markdown",
   "metadata": {},
   "source": [
    "## Get graph info"
   ]
  },
  {
   "cell_type": "code",
   "execution_count": 11,
   "metadata": {},
   "outputs": [
    {
     "data": {
      "text/plain": [
       "['baltimore_followers_network_part_largest_CC.txt',\n",
       " 'beefban_followers_network_part_largest_CC.txt',\n",
       " 'ff_followers_network_part_largest_CC.txt',\n",
       " 'germanwings_followers_network_part_largest_CC.txt',\n",
       " 'gunsense_followers_network_part_largest_CC.txt',\n",
       " 'indiana_followers_network_part_largest_CC.txt',\n",
       " 'indiasdaughter_followers_network_part_largest_CC.txt',\n",
       " 'jurassicworld_followers_network_part_largest_CC.txt',\n",
       " 'leadersdebate_followers_network_part_largest_CC.txt',\n",
       " 'mothersday_followers_network_part_largest_CC.txt',\n",
       " 'nemtsov_followers_network_part_largest_CC.txt',\n",
       " 'nepal_followers_network_part_largest_CC.txt',\n",
       " 'netanyahu_followers_network_part_largest_CC.txt',\n",
       " 'onedirection_followers_network_part_largest_CC.txt',\n",
       " 'russia_march_followers_network_part_largest_CC.txt',\n",
       " 'sxsw_followers_network_part_largest_CC.txt',\n",
       " 'ukraine_followers_network_part_largest_CC.txt',\n",
       " 'ultralive_followers_network_part_largest_CC.txt']"
      ]
     },
     "execution_count": 11,
     "metadata": {},
     "output_type": "execute_result"
    }
   ],
   "source": [
    "path = \"C:/Users/comot/IdeaProjects/echo-chambers/data\"\n",
    "chdir(path)\n",
    "files: list = list(filter(lambda x: not x.endswith(\"xf\"), listdir()))\n",
    "files"
   ]
  },
  {
   "cell_type": "code",
   "execution_count": 12,
   "metadata": {},
   "outputs": [],
   "source": [
    "def create_graph(file: str):\n",
    "    return nx.read_weighted_edgelist(file, delimiter=\",\")\n",
    "\n",
    "def get_graph_info(graph: nx.Graph):\n",
    "    n_edges = graph.number_of_edges()\n",
    "    n_nodes = len(graph)\n",
    "    return n_nodes, n_edges"
   ]
  },
  {
   "cell_type": "code",
   "execution_count": 13,
   "metadata": {},
   "outputs": [
    {
     "data": {
      "text/plain": [
       "{'baltimore_followers_network_part_largest_CC.txt': (1441, 28291),\n",
       " 'beefban_followers_network_part_largest_CC.txt': (799, 6026),\n",
       " 'ff_followers_network_part_largest_CC.txt': (3899, 63672),\n",
       " 'germanwings_followers_network_part_largest_CC.txt': (2111, 7329),\n",
       " 'gunsense_followers_network_part_largest_CC.txt': (1821, 103840),\n",
       " 'indiana_followers_network_part_largest_CC.txt': (946, 24328),\n",
       " 'indiasdaughter_followers_network_part_largest_CC.txt': (1542, 9480),\n",
       " 'jurassicworld_followers_network_part_largest_CC.txt': (4395, 31802),\n",
       " 'leadersdebate_followers_network_part_largest_CC.txt': (9566, 344088),\n",
       " 'mothersday_followers_network_part_largest_CC.txt': (2225, 14160),\n",
       " 'nemtsov_followers_network_part_largest_CC.txt': (2156, 46529),\n",
       " 'nepal_followers_network_part_largest_CC.txt': (4242, 42833),\n",
       " 'netanyahu_followers_network_part_largest_CC.txt': (4292, 297136),\n",
       " 'onedirection_followers_network_part_largest_CC.txt': (3151, 20275),\n",
       " 'russia_march_followers_network_part_largest_CC.txt': (1189, 16471),\n",
       " 'sxsw_followers_network_part_largest_CC.txt': (4558, 91356),\n",
       " 'ukraine_followers_network_part_largest_CC.txt': (3383, 84035),\n",
       " 'ultralive_followers_network_part_largest_CC.txt': (2113, 16070)}"
      ]
     },
     "execution_count": 13,
     "metadata": {},
     "output_type": "execute_result"
    }
   ],
   "source": [
    "graphs = list(map(lambda file: create_graph(file), files))\n",
    "graphs_info = map(lambda graph: get_graph_info(graph), graphs)\n",
    "graphs_details = dict(zip(files,graphs_info))\n",
    "graphs_details"
   ]
  },
  {
   "cell_type": "code",
   "execution_count": 14,
   "metadata": {},
   "outputs": [],
   "source": [
    "#Get coverage\n",
    "graphs_name = dict(zip(files, graphs))\n",
    "graphs_name_dict = {}\n",
    "for c in communities:\n",
    "    for f in graphs_name.keys():\n",
    "        if c in f:\n",
    "            graphs_name_dict[graphs_name[f]] = f     "
   ]
  },
  {
   "cell_type": "code",
   "execution_count": 15,
   "metadata": {},
   "outputs": [],
   "source": [
    "graph_and_communities = dict(zip(list(graphs_name_dict.keys()), communities_final))"
   ]
  },
  {
   "cell_type": "code",
   "execution_count": 16,
   "metadata": {},
   "outputs": [
    {
     "data": {
      "text/plain": [
       "9"
      ]
     },
     "execution_count": 16,
     "metadata": {},
     "output_type": "execute_result"
    }
   ],
   "source": [
    "len(graph_and_communities)"
   ]
  },
  {
   "cell_type": "code",
   "execution_count": 17,
   "metadata": {},
   "outputs": [],
   "source": [
    "def get_coverage(graph_and_communities):\n",
    "    df_result = pd.DataFrame(columns=[\"Graph\",\"Coverage\"])\n",
    "    for graph in graph_and_communities.keys():\n",
    "        cov = round(coverage(graph, graph_and_communities[graph].values()), 4)\n",
    "        print(\"Done\")\n",
    "        df_result = df_result.append(\n",
    "            {\"Graph\": list(graph_and_communities[graph].keys())[0],\n",
    "             \"Coverage\": cov},\n",
    "            ignore_index=True\n",
    "        )\n",
    "    return df_result"
   ]
  },
  {
   "cell_type": "code",
   "execution_count": 18,
   "metadata": {},
   "outputs": [
    {
     "name": "stdout",
     "output_type": "stream",
     "text": [
      "Done\n",
      "Done\n",
      "Done\n",
      "Done\n",
      "Done\n",
      "Done\n",
      "Done\n",
      "Done\n",
      "Done\n"
     ]
    }
   ],
   "source": [
    "cov_graphs = get_coverage(graph_and_communities)"
   ]
  },
  {
   "cell_type": "code",
   "execution_count": 19,
   "metadata": {},
   "outputs": [
    {
     "data": {
      "text/html": [
       "<div>\n",
       "<style scoped>\n",
       "    .dataframe tbody tr th:only-of-type {\n",
       "        vertical-align: middle;\n",
       "    }\n",
       "\n",
       "    .dataframe tbody tr th {\n",
       "        vertical-align: top;\n",
       "    }\n",
       "\n",
       "    .dataframe thead th {\n",
       "        text-align: right;\n",
       "    }\n",
       "</style>\n",
       "<table border=\"1\" class=\"dataframe\">\n",
       "  <thead>\n",
       "    <tr style=\"text-align: right;\">\n",
       "      <th></th>\n",
       "      <th>Graph</th>\n",
       "      <th>Coverage</th>\n",
       "    </tr>\n",
       "  </thead>\n",
       "  <tbody>\n",
       "    <tr>\n",
       "      <th>1</th>\n",
       "      <td>gunsense_followers_network_part_largest_CC_flu...</td>\n",
       "      <td>0.9927</td>\n",
       "    </tr>\n",
       "    <tr>\n",
       "      <th>0</th>\n",
       "      <td>baltimore_followers_network_part_largest_CC_fl...</td>\n",
       "      <td>0.9825</td>\n",
       "    </tr>\n",
       "    <tr>\n",
       "      <th>2</th>\n",
       "      <td>netanyahu_followers_network_part_largest_CC_fl...</td>\n",
       "      <td>0.9766</td>\n",
       "    </tr>\n",
       "    <tr>\n",
       "      <th>3</th>\n",
       "      <td>ukraine_followers_network_part_largest_CC_flui...</td>\n",
       "      <td>0.9623</td>\n",
       "    </tr>\n",
       "    <tr>\n",
       "      <th>4</th>\n",
       "      <td>russia_march_followers_network_part_largest_CC...</td>\n",
       "      <td>0.9621</td>\n",
       "    </tr>\n",
       "    <tr>\n",
       "      <th>6</th>\n",
       "      <td>germanwings_followers_network_part_largest_CC_...</td>\n",
       "      <td>0.9169</td>\n",
       "    </tr>\n",
       "    <tr>\n",
       "      <th>8</th>\n",
       "      <td>onedirection_followers_network_part_largest_CC...</td>\n",
       "      <td>0.8858</td>\n",
       "    </tr>\n",
       "    <tr>\n",
       "      <th>7</th>\n",
       "      <td>ultralive_followers_network_part_largest_CC_fl...</td>\n",
       "      <td>0.8610</td>\n",
       "    </tr>\n",
       "    <tr>\n",
       "      <th>5</th>\n",
       "      <td>sxsw_followers_network_part_largest_CC_fluidc_...</td>\n",
       "      <td>0.8300</td>\n",
       "    </tr>\n",
       "  </tbody>\n",
       "</table>\n",
       "</div>"
      ],
      "text/plain": [
       "                                               Graph  Coverage\n",
       "1  gunsense_followers_network_part_largest_CC_flu...    0.9927\n",
       "0  baltimore_followers_network_part_largest_CC_fl...    0.9825\n",
       "2  netanyahu_followers_network_part_largest_CC_fl...    0.9766\n",
       "3  ukraine_followers_network_part_largest_CC_flui...    0.9623\n",
       "4  russia_march_followers_network_part_largest_CC...    0.9621\n",
       "6  germanwings_followers_network_part_largest_CC_...    0.9169\n",
       "8  onedirection_followers_network_part_largest_CC...    0.8858\n",
       "7  ultralive_followers_network_part_largest_CC_fl...    0.8610\n",
       "5  sxsw_followers_network_part_largest_CC_fluidc_...    0.8300"
      ]
     },
     "execution_count": 19,
     "metadata": {},
     "output_type": "execute_result"
    }
   ],
   "source": [
    "cov_graphs.sort_values(by=['Coverage'], ascending=False)"
   ]
  },
  {
   "cell_type": "markdown",
   "metadata": {},
   "source": [
    "## Standard results - Analysis"
   ]
  },
  {
   "cell_type": "code",
   "execution_count": 20,
   "metadata": {},
   "outputs": [],
   "source": [
    "controversial: list = [\"gunsense_followers_network_part_largest_CC.csv\",\n",
    "                       \"netanyahu_followers_network_part_largest_CC.csv\",\n",
    "                       \"russia_march_followers_network_part_largest_CC.csv\"\n",
    "                      ]\n",
    "# controversial: list = [\"baltimore_followers_network_part_largest_CC.csv\",\n",
    "#                        \"gunsense_followers_network_part_largest_CC.csv\",\n",
    "#                        \"netanyahu_followers_network_part_largest_CC.csv\",\n",
    "#                        \"ukraine_followers_network_part_largest_CC.csv\",\n",
    "#                        \"russia_march_followers_network_part_largest_CC.csv\"\n",
    "#                       ]\n",
    "non_controversial: list = [\"sxsw_followers_network_part_largest_CC.csv\",\n",
    "                           \"germanwings_followers_network_part_largest_CC.csv\",\n",
    "                           \"ultralive_followers_network_part_largest_CC.csv\",\n",
    "                           \"onedirection_followers_network_part_largest_CC.csv\"\n",
    "                          ]"
   ]
  },
  {
   "cell_type": "code",
   "execution_count": 21,
   "metadata": {},
   "outputs": [
    {
     "data": {
      "text/plain": [
       "['baltimore_followers_network_part_largest_CC.csv',\n",
       " 'beefban_followers_network_part_largest_CC.csv',\n",
       " 'ff_followers_network_part_largest_CC.csv',\n",
       " 'germanwings_followers_network_part_largest_CC.csv',\n",
       " 'gunsense_followers_network_part_largest_CC.csv',\n",
       " 'indiana_followers_network_part_largest_CC.csv',\n",
       " 'indiasdaughter_followers_network_part_largest_CC.csv',\n",
       " 'jurassicworld_followers_network_part_largest_CC.csv',\n",
       " 'leadersdebate_followers_network_part_largest_CC.csv',\n",
       " 'mothersday_followers_network_part_largest_CC.csv',\n",
       " 'nemtsov_followers_network_part_largest_CC.csv',\n",
       " 'nepal_followers_network_part_largest_CC.csv',\n",
       " 'netanyahu_followers_network_part_largest_CC.csv',\n",
       " 'onedirection_followers_network_part_largest_CC.csv',\n",
       " 'russia_march_followers_network_part_largest_CC.csv',\n",
       " 'sxsw_followers_network_part_largest_CC.csv',\n",
       " 'ukraine_followers_network_part_largest_CC.csv',\n",
       " 'ultralive_followers_network_part_largest_CC.csv']"
      ]
     },
     "execution_count": 21,
     "metadata": {},
     "output_type": "execute_result"
    }
   ],
   "source": [
    "path_standard_result = \"C:/Users/comot/IdeaProjects/echo-chambers/result_standard/\"\n",
    "chdir(path_standard_result)\n",
    "files_standard_result: list = listdir()\n",
    "files_standard_result"
   ]
  },
  {
   "cell_type": "code",
   "execution_count": 22,
   "metadata": {},
   "outputs": [
    {
     "data": {
      "text/plain": [
       "True"
      ]
     },
     "execution_count": 22,
     "metadata": {},
     "output_type": "execute_result"
    }
   ],
   "source": [
    "len(files) == len(files_standard_result)"
   ]
  },
  {
   "cell_type": "code",
   "execution_count": 23,
   "metadata": {},
   "outputs": [],
   "source": [
    "standard_result = dict(zip(files_standard_result, map(lambda file: pd.read_csv(file), files_standard_result)))\n",
    "non_controversial_std_result = {key: value for key, value in standard_result.items() if key in non_controversial}\n",
    "controversial_std_result = {key: value for key, value in standard_result.items() if key in controversial}"
   ]
  },
  {
   "cell_type": "code",
   "execution_count": 24,
   "metadata": {},
   "outputs": [],
   "source": [
    "# Create one dataframe\n",
    "non_controversial_std_df = pd.concat(non_controversial_std_result.values())\n",
    "non_controversial_std_df[\"Controversial\"] = \"N\"\n",
    "controversial_std_df = pd.concat(controversial_std_result.values())\n",
    "controversial_std_df[\"Controversial\"] = \"Y\""
   ]
  },
  {
   "cell_type": "code",
   "execution_count": 25,
   "metadata": {},
   "outputs": [
    {
     "data": {
      "text/html": [
       "<div>\n",
       "<style scoped>\n",
       "    .dataframe tbody tr th:only-of-type {\n",
       "        vertical-align: middle;\n",
       "    }\n",
       "\n",
       "    .dataframe tbody tr th {\n",
       "        vertical-align: top;\n",
       "    }\n",
       "\n",
       "    .dataframe thead th {\n",
       "        text-align: right;\n",
       "    }\n",
       "</style>\n",
       "<table border=\"1\" class=\"dataframe\">\n",
       "  <thead>\n",
       "    <tr style=\"text-align: right;\">\n",
       "      <th></th>\n",
       "      <th>Unnamed: 0</th>\n",
       "      <th>RWC_pre</th>\n",
       "      <th>RWC_post</th>\n",
       "      <th>GMCK_pre</th>\n",
       "      <th>GMCK_post</th>\n",
       "      <th>ForceAtlas_pre</th>\n",
       "      <th>ForceAtlas_post</th>\n",
       "      <th>Original_edges</th>\n",
       "      <th>New_edges</th>\n",
       "      <th>Number_edges_added</th>\n",
       "      <th>Percentage_edges_added</th>\n",
       "    </tr>\n",
       "  </thead>\n",
       "  <tbody>\n",
       "    <tr>\n",
       "      <th>count</th>\n",
       "      <td>24.000000</td>\n",
       "      <td>24.000000</td>\n",
       "      <td>24.000000</td>\n",
       "      <td>24.000000</td>\n",
       "      <td>24.000000</td>\n",
       "      <td>24.000000</td>\n",
       "      <td>24.000000</td>\n",
       "      <td>24.000000</td>\n",
       "      <td>24.000000</td>\n",
       "      <td>24.0</td>\n",
       "      <td>24.000000</td>\n",
       "    </tr>\n",
       "    <tr>\n",
       "      <th>mean</th>\n",
       "      <td>2.500000</td>\n",
       "      <td>0.589125</td>\n",
       "      <td>0.470217</td>\n",
       "      <td>0.054925</td>\n",
       "      <td>0.023587</td>\n",
       "      <td>0.238625</td>\n",
       "      <td>0.216458</td>\n",
       "      <td>33757.500000</td>\n",
       "      <td>34757.500000</td>\n",
       "      <td>1000.0</td>\n",
       "      <td>0.000325</td>\n",
       "    </tr>\n",
       "    <tr>\n",
       "      <th>std</th>\n",
       "      <td>1.744557</td>\n",
       "      <td>0.101911</td>\n",
       "      <td>0.096057</td>\n",
       "      <td>0.100488</td>\n",
       "      <td>0.084841</td>\n",
       "      <td>0.084652</td>\n",
       "      <td>0.075820</td>\n",
       "      <td>34303.041862</td>\n",
       "      <td>34303.041862</td>\n",
       "      <td>0.0</td>\n",
       "      <td>0.000182</td>\n",
       "    </tr>\n",
       "    <tr>\n",
       "      <th>min</th>\n",
       "      <td>0.000000</td>\n",
       "      <td>0.489800</td>\n",
       "      <td>0.237000</td>\n",
       "      <td>-0.106600</td>\n",
       "      <td>-0.146200</td>\n",
       "      <td>0.105300</td>\n",
       "      <td>0.083600</td>\n",
       "      <td>7329.000000</td>\n",
       "      <td>8329.000000</td>\n",
       "      <td>1000.0</td>\n",
       "      <td>0.000100</td>\n",
       "    </tr>\n",
       "    <tr>\n",
       "      <th>25%</th>\n",
       "      <td>1.000000</td>\n",
       "      <td>0.502175</td>\n",
       "      <td>0.419325</td>\n",
       "      <td>0.022925</td>\n",
       "      <td>-0.010875</td>\n",
       "      <td>0.203475</td>\n",
       "      <td>0.147600</td>\n",
       "      <td>13884.750000</td>\n",
       "      <td>14884.750000</td>\n",
       "      <td>1000.0</td>\n",
       "      <td>0.000175</td>\n",
       "    </tr>\n",
       "    <tr>\n",
       "      <th>50%</th>\n",
       "      <td>2.500000</td>\n",
       "      <td>0.564750</td>\n",
       "      <td>0.488800</td>\n",
       "      <td>0.085900</td>\n",
       "      <td>0.056450</td>\n",
       "      <td>0.263650</td>\n",
       "      <td>0.234500</td>\n",
       "      <td>18172.500000</td>\n",
       "      <td>19172.500000</td>\n",
       "      <td>1000.0</td>\n",
       "      <td>0.000350</td>\n",
       "    </tr>\n",
       "    <tr>\n",
       "      <th>75%</th>\n",
       "      <td>4.000000</td>\n",
       "      <td>0.651700</td>\n",
       "      <td>0.504975</td>\n",
       "      <td>0.117900</td>\n",
       "      <td>0.083625</td>\n",
       "      <td>0.298800</td>\n",
       "      <td>0.285800</td>\n",
       "      <td>38045.250000</td>\n",
       "      <td>39045.250000</td>\n",
       "      <td>1000.0</td>\n",
       "      <td>0.000500</td>\n",
       "    </tr>\n",
       "    <tr>\n",
       "      <th>max</th>\n",
       "      <td>5.000000</td>\n",
       "      <td>0.737200</td>\n",
       "      <td>0.644100</td>\n",
       "      <td>0.154500</td>\n",
       "      <td>0.141900</td>\n",
       "      <td>0.321900</td>\n",
       "      <td>0.338900</td>\n",
       "      <td>91356.000000</td>\n",
       "      <td>92356.000000</td>\n",
       "      <td>1000.0</td>\n",
       "      <td>0.000500</td>\n",
       "    </tr>\n",
       "  </tbody>\n",
       "</table>\n",
       "</div>"
      ],
      "text/plain": [
       "       Unnamed: 0    RWC_pre   RWC_post   GMCK_pre  GMCK_post  ForceAtlas_pre  \\\n",
       "count   24.000000  24.000000  24.000000  24.000000  24.000000       24.000000   \n",
       "mean     2.500000   0.589125   0.470217   0.054925   0.023587        0.238625   \n",
       "std      1.744557   0.101911   0.096057   0.100488   0.084841        0.084652   \n",
       "min      0.000000   0.489800   0.237000  -0.106600  -0.146200        0.105300   \n",
       "25%      1.000000   0.502175   0.419325   0.022925  -0.010875        0.203475   \n",
       "50%      2.500000   0.564750   0.488800   0.085900   0.056450        0.263650   \n",
       "75%      4.000000   0.651700   0.504975   0.117900   0.083625        0.298800   \n",
       "max      5.000000   0.737200   0.644100   0.154500   0.141900        0.321900   \n",
       "\n",
       "       ForceAtlas_post  Original_edges     New_edges  Number_edges_added  \\\n",
       "count        24.000000       24.000000     24.000000                24.0   \n",
       "mean          0.216458    33757.500000  34757.500000              1000.0   \n",
       "std           0.075820    34303.041862  34303.041862                 0.0   \n",
       "min           0.083600     7329.000000   8329.000000              1000.0   \n",
       "25%           0.147600    13884.750000  14884.750000              1000.0   \n",
       "50%           0.234500    18172.500000  19172.500000              1000.0   \n",
       "75%           0.285800    38045.250000  39045.250000              1000.0   \n",
       "max           0.338900    91356.000000  92356.000000              1000.0   \n",
       "\n",
       "       Percentage_edges_added  \n",
       "count               24.000000  \n",
       "mean                 0.000325  \n",
       "std                  0.000182  \n",
       "min                  0.000100  \n",
       "25%                  0.000175  \n",
       "50%                  0.000350  \n",
       "75%                  0.000500  \n",
       "max                  0.000500  "
      ]
     },
     "execution_count": 25,
     "metadata": {},
     "output_type": "execute_result"
    }
   ],
   "source": [
    "# Try to get insight\n",
    "non_controversial_std_df.describe()"
   ]
  },
  {
   "cell_type": "code",
   "execution_count": 26,
   "metadata": {},
   "outputs": [
    {
     "data": {
      "text/html": [
       "<div>\n",
       "<style scoped>\n",
       "    .dataframe tbody tr th:only-of-type {\n",
       "        vertical-align: middle;\n",
       "    }\n",
       "\n",
       "    .dataframe tbody tr th {\n",
       "        vertical-align: top;\n",
       "    }\n",
       "\n",
       "    .dataframe thead th {\n",
       "        text-align: right;\n",
       "    }\n",
       "</style>\n",
       "<table border=\"1\" class=\"dataframe\">\n",
       "  <thead>\n",
       "    <tr style=\"text-align: right;\">\n",
       "      <th></th>\n",
       "      <th>Unnamed: 0</th>\n",
       "      <th>RWC_pre</th>\n",
       "      <th>RWC_post</th>\n",
       "      <th>GMCK_pre</th>\n",
       "      <th>GMCK_post</th>\n",
       "      <th>ForceAtlas_pre</th>\n",
       "      <th>ForceAtlas_post</th>\n",
       "      <th>Original_edges</th>\n",
       "      <th>New_edges</th>\n",
       "      <th>Number_edges_added</th>\n",
       "      <th>Percentage_edges_added</th>\n",
       "    </tr>\n",
       "  </thead>\n",
       "  <tbody>\n",
       "    <tr>\n",
       "      <th>count</th>\n",
       "      <td>18.000000</td>\n",
       "      <td>18.000000</td>\n",
       "      <td>18.000000</td>\n",
       "      <td>18.000000</td>\n",
       "      <td>18.000000</td>\n",
       "      <td>18.000000</td>\n",
       "      <td>18.000000</td>\n",
       "      <td>18.000000</td>\n",
       "      <td>18.000000</td>\n",
       "      <td>18.0</td>\n",
       "      <td>18.000000</td>\n",
       "    </tr>\n",
       "    <tr>\n",
       "      <th>mean</th>\n",
       "      <td>2.500000</td>\n",
       "      <td>0.903333</td>\n",
       "      <td>0.833972</td>\n",
       "      <td>0.332333</td>\n",
       "      <td>0.244861</td>\n",
       "      <td>0.594000</td>\n",
       "      <td>0.547944</td>\n",
       "      <td>139149.000000</td>\n",
       "      <td>140149.000000</td>\n",
       "      <td>1000.0</td>\n",
       "      <td>0.000700</td>\n",
       "    </tr>\n",
       "    <tr>\n",
       "      <th>std</th>\n",
       "      <td>1.757338</td>\n",
       "      <td>0.040454</td>\n",
       "      <td>0.098323</td>\n",
       "      <td>0.069576</td>\n",
       "      <td>0.104578</td>\n",
       "      <td>0.091533</td>\n",
       "      <td>0.091624</td>\n",
       "      <td>120669.469798</td>\n",
       "      <td>120669.469798</td>\n",
       "      <td>0.0</td>\n",
       "      <td>0.000551</td>\n",
       "    </tr>\n",
       "    <tr>\n",
       "      <th>min</th>\n",
       "      <td>0.000000</td>\n",
       "      <td>0.855200</td>\n",
       "      <td>0.633800</td>\n",
       "      <td>0.281700</td>\n",
       "      <td>0.000000</td>\n",
       "      <td>0.530800</td>\n",
       "      <td>0.415600</td>\n",
       "      <td>16471.000000</td>\n",
       "      <td>17471.000000</td>\n",
       "      <td>1000.0</td>\n",
       "      <td>0.000100</td>\n",
       "    </tr>\n",
       "    <tr>\n",
       "      <th>25%</th>\n",
       "      <td>1.000000</td>\n",
       "      <td>0.855200</td>\n",
       "      <td>0.744500</td>\n",
       "      <td>0.281700</td>\n",
       "      <td>0.190575</td>\n",
       "      <td>0.530800</td>\n",
       "      <td>0.476100</td>\n",
       "      <td>16471.000000</td>\n",
       "      <td>17471.000000</td>\n",
       "      <td>1000.0</td>\n",
       "      <td>0.000100</td>\n",
       "    </tr>\n",
       "    <tr>\n",
       "      <th>50%</th>\n",
       "      <td>2.500000</td>\n",
       "      <td>0.903300</td>\n",
       "      <td>0.888850</td>\n",
       "      <td>0.287400</td>\n",
       "      <td>0.266900</td>\n",
       "      <td>0.531400</td>\n",
       "      <td>0.518200</td>\n",
       "      <td>103840.000000</td>\n",
       "      <td>104840.000000</td>\n",
       "      <td>1000.0</td>\n",
       "      <td>0.000600</td>\n",
       "    </tr>\n",
       "    <tr>\n",
       "      <th>75%</th>\n",
       "      <td>4.000000</td>\n",
       "      <td>0.951500</td>\n",
       "      <td>0.900925</td>\n",
       "      <td>0.427900</td>\n",
       "      <td>0.297900</td>\n",
       "      <td>0.719800</td>\n",
       "      <td>0.648350</td>\n",
       "      <td>297136.000000</td>\n",
       "      <td>298136.000000</td>\n",
       "      <td>1000.0</td>\n",
       "      <td>0.001400</td>\n",
       "    </tr>\n",
       "    <tr>\n",
       "      <th>max</th>\n",
       "      <td>5.000000</td>\n",
       "      <td>0.951500</td>\n",
       "      <td>0.925800</td>\n",
       "      <td>0.427900</td>\n",
       "      <td>0.407400</td>\n",
       "      <td>0.719800</td>\n",
       "      <td>0.697200</td>\n",
       "      <td>297136.000000</td>\n",
       "      <td>298136.000000</td>\n",
       "      <td>1000.0</td>\n",
       "      <td>0.001400</td>\n",
       "    </tr>\n",
       "  </tbody>\n",
       "</table>\n",
       "</div>"
      ],
      "text/plain": [
       "       Unnamed: 0    RWC_pre   RWC_post   GMCK_pre  GMCK_post  ForceAtlas_pre  \\\n",
       "count   18.000000  18.000000  18.000000  18.000000  18.000000       18.000000   \n",
       "mean     2.500000   0.903333   0.833972   0.332333   0.244861        0.594000   \n",
       "std      1.757338   0.040454   0.098323   0.069576   0.104578        0.091533   \n",
       "min      0.000000   0.855200   0.633800   0.281700   0.000000        0.530800   \n",
       "25%      1.000000   0.855200   0.744500   0.281700   0.190575        0.530800   \n",
       "50%      2.500000   0.903300   0.888850   0.287400   0.266900        0.531400   \n",
       "75%      4.000000   0.951500   0.900925   0.427900   0.297900        0.719800   \n",
       "max      5.000000   0.951500   0.925800   0.427900   0.407400        0.719800   \n",
       "\n",
       "       ForceAtlas_post  Original_edges      New_edges  Number_edges_added  \\\n",
       "count        18.000000       18.000000      18.000000                18.0   \n",
       "mean          0.547944   139149.000000  140149.000000              1000.0   \n",
       "std           0.091624   120669.469798  120669.469798                 0.0   \n",
       "min           0.415600    16471.000000   17471.000000              1000.0   \n",
       "25%           0.476100    16471.000000   17471.000000              1000.0   \n",
       "50%           0.518200   103840.000000  104840.000000              1000.0   \n",
       "75%           0.648350   297136.000000  298136.000000              1000.0   \n",
       "max           0.697200   297136.000000  298136.000000              1000.0   \n",
       "\n",
       "       Percentage_edges_added  \n",
       "count               18.000000  \n",
       "mean                 0.000700  \n",
       "std                  0.000551  \n",
       "min                  0.000100  \n",
       "25%                  0.000100  \n",
       "50%                  0.000600  \n",
       "75%                  0.001400  \n",
       "max                  0.001400  "
      ]
     },
     "execution_count": 26,
     "metadata": {},
     "output_type": "execute_result"
    }
   ],
   "source": [
    "controversial_std_df.describe()"
   ]
  },
  {
   "cell_type": "code",
   "execution_count": 27,
   "metadata": {},
   "outputs": [],
   "source": [
    "# Create dataframe for visualization\n",
    "results = pd.concat([controversial_std_df,non_controversial_std_df])\n",
    "controversy = results[[\"RWC_pre\",\"ForceAtlas_pre\",\"GMCK_pre\",\"Controversial\"]].rename(columns={'RWC_pre': 'RWC', 'ForceAtlas_pre': 'EC','GMCK_pre':'BCC'}, inplace=False)"
   ]
  },
  {
   "cell_type": "code",
   "execution_count": 28,
   "metadata": {
    "scrolled": false
   },
   "outputs": [
    {
     "data": {
      "text/plain": [
       "<matplotlib.legend.Legend at 0x1dc11676940>"
      ]
     },
     "execution_count": 28,
     "metadata": {},
     "output_type": "execute_result"
    },
    {
     "data": {
      "image/png": "[encoded data removed]",
      "text/plain": [
       "<Figure size 432x288 with 1 Axes>"
      ]
     },
     "metadata": {
      "needs_background": "light"
     },
     "output_type": "display_data"
    }
   ],
   "source": [
    "ax = controversy.groupby(['Controversial']).mean().transpose().plot(kind=\"bar\", title=\"Mean controversy measure\", colormap='winter')\n",
    "ax.set_facecolor(\"lightslategray\")\n",
    "ax.set_xlabel(\"Controversy Measure\")\n",
    "ax.set_ylabel(\"Mean CM\")\n",
    "ax.legend(loc=\"best\", frameon=True, title= \"Controversial\", framealpha=1, shadow=True, borderpad=1)\n",
    "# fig = ax.get_figure()\n",
    "# fig.savefig(\"output.png\", bbox_inches='tight')"
   ]
  },
  {
   "cell_type": "code",
   "execution_count": 29,
   "metadata": {
    "scrolled": true
   },
   "outputs": [
    {
     "data": {
      "text/plain": [
       "Text(0.39233333333333326, 3.06, '$\\\\mu =$0.33')"
      ]
     },
     "execution_count": 29,
     "metadata": {},
     "output_type": "execute_result"
    },
    {
     "data": {
      "image/png": "[encoded data removed]",
      "text/plain": [
       "<Figure size 640x640 with 2 Axes>"
      ]
     },
     "metadata": {
      "needs_background": "light"
     },
     "output_type": "display_data"
    }
   ],
   "source": [
    "ordered_df = controversy[['RWC','EC','Controversial']].groupby(['Controversial']).mean().transpose().sort_values(by='N')\n",
    "my_range=[1,2]\n",
    "\n",
    "plt.subplots(1,1,figsize=(8,8), dpi=80)\n",
    "plt.hlines(y=my_range, xmin=ordered_df['N'], xmax=ordered_df['Y'], color='grey', alpha=0.4, )\n",
    "plt.scatter(ordered_df['N'], my_range, color='blue', alpha=0.5, label='N', s=100)\n",
    "plt.scatter(ordered_df['Y'], my_range, color='green', alpha=0.5 , label='Y', s=100)\n",
    "plt.legend(loc=\"lower right\", frameon=True, title= \"Controversial\", framealpha=1, shadow=True, borderpad=1)\n",
    "\n",
    "# Add title and axis names\n",
    "plt.yticks([1,2,3], ['EC', 'RWC', 'BCC'], size=12)\n",
    "plt.xlim([0,1])\n",
    "plt.xticks(np.arange(0, 1.1, 0.5), size=11)\n",
    "my_xticks = list(round(ordered_df[\"N\"],2)) + list(round(ordered_df[\"Y\"], 2))\n",
    "points = list(zip(my_xticks, list(my_range) + list(my_range)))\n",
    "for p in points:\n",
    "    plt.text(p[0]+0.06, p[1]+0.06, \"$\\mu =$\" + str(p[0]), horizontalalignment='right', verticalalignment='center', fontdict={'size':12})\n",
    "    \n",
    "#plt.title(\"Comparison of CM\", loc='center', fontdict={'size':16, 'weight':700})\n",
    "plt.xlabel('Min-Max EC and RWC', fontdict={'size':12})\n",
    "\n",
    "plt.ylabel('Controversy Measures',fontdict={'size':14})\n",
    "plt.twiny().set_xlim([-0.5,0.5])\n",
    "plt.xticks(np.arange(-0.5, 0.6, 0.5), size = 11)\n",
    "plt.xlabel(\"Min-Max BCC\", fontdict={'size':12})\n",
    "\n",
    "ordered_df1 = controversy[['BCC','Controversial']].groupby(['Controversial']).mean().transpose().sort_values(by='N')\n",
    "my_range1=3\n",
    "plt.hlines(y=[3,3], xmin=ordered_df1['N'], xmax=ordered_df1['Y'], color='grey', alpha=0.2)\n",
    "plt.scatter(ordered_df1['N'], my_range1, color='blue', alpha=0.5, label='N', s=100)\n",
    "plt.scatter(ordered_df1['Y'], my_range1, color='green', alpha=0.5 , label='Y', s=100)\n",
    "plt.text(float(ordered_df1[\"N\"])+0.06, 3+0.06, \"$\\mu =$\" + str(round(float(ordered_df1[\"N\"]),2)), horizontalalignment='right', verticalalignment='center', fontdict={'size':12})\n",
    "plt.text(float(ordered_df1[\"Y\"])+0.06, 3+0.06, \"$\\mu =$\" + str(round(float(ordered_df1[\"Y\"]),2)), horizontalalignment='right', verticalalignment='center', fontdict={'size':12})\n",
    "# plt.savefig(\"variant_mean_controversy2.png\", bbox_inches='tight')"
   ]
  },
  {
   "cell_type": "code",
   "execution_count": 30,
   "metadata": {},
   "outputs": [
    {
     "data": {
      "text/plain": [
       "(42, 13)"
      ]
     },
     "execution_count": 30,
     "metadata": {},
     "output_type": "execute_result"
    }
   ],
   "source": [
    "# Analysis on link prediction result\n",
    "results.shape"
   ]
  },
  {
   "cell_type": "code",
   "execution_count": 31,
   "metadata": {
    "scrolled": true
   },
   "outputs": [
    {
     "data": {
      "text/html": [
       "<div>\n",
       "<style scoped>\n",
       "    .dataframe tbody tr th:only-of-type {\n",
       "        vertical-align: middle;\n",
       "    }\n",
       "\n",
       "    .dataframe tbody tr th {\n",
       "        vertical-align: top;\n",
       "    }\n",
       "\n",
       "    .dataframe thead th {\n",
       "        text-align: right;\n",
       "    }\n",
       "</style>\n",
       "<table border=\"1\" class=\"dataframe\">\n",
       "  <thead>\n",
       "    <tr style=\"text-align: right;\">\n",
       "      <th></th>\n",
       "      <th>Unnamed: 0</th>\n",
       "      <th>Algorithm</th>\n",
       "      <th>RWC_pre</th>\n",
       "      <th>RWC_post</th>\n",
       "      <th>GMCK_pre</th>\n",
       "      <th>GMCK_post</th>\n",
       "      <th>ForceAtlas_pre</th>\n",
       "      <th>ForceAtlas_post</th>\n",
       "      <th>Original_edges</th>\n",
       "      <th>New_edges</th>\n",
       "      <th>Number_edges_added</th>\n",
       "      <th>Percentage_edges_added</th>\n",
       "      <th>Controversial</th>\n",
       "    </tr>\n",
       "  </thead>\n",
       "  <tbody>\n",
       "    <tr>\n",
       "      <th>0</th>\n",
       "      <td>0</td>\n",
       "      <td>BETWEENNESS</td>\n",
       "      <td>0.86</td>\n",
       "      <td>0.72</td>\n",
       "      <td>0.28</td>\n",
       "      <td>0.09</td>\n",
       "      <td>0.53</td>\n",
       "      <td>0.46</td>\n",
       "      <td>16471</td>\n",
       "      <td>17471</td>\n",
       "      <td>1000</td>\n",
       "      <td>0.0</td>\n",
       "      <td>Y</td>\n",
       "    </tr>\n",
       "    <tr>\n",
       "      <th>1</th>\n",
       "      <td>1</td>\n",
       "      <td>EFFECTIVE_SIZE</td>\n",
       "      <td>0.86</td>\n",
       "      <td>0.70</td>\n",
       "      <td>0.28</td>\n",
       "      <td>0.00</td>\n",
       "      <td>0.53</td>\n",
       "      <td>0.47</td>\n",
       "      <td>16471</td>\n",
       "      <td>17471</td>\n",
       "      <td>1000</td>\n",
       "      <td>0.0</td>\n",
       "      <td>Y</td>\n",
       "    </tr>\n",
       "    <tr>\n",
       "      <th>2</th>\n",
       "      <td>2</td>\n",
       "      <td>JACCARD_COEFFICIENT</td>\n",
       "      <td>0.86</td>\n",
       "      <td>0.81</td>\n",
       "      <td>0.28</td>\n",
       "      <td>0.19</td>\n",
       "      <td>0.53</td>\n",
       "      <td>0.49</td>\n",
       "      <td>16471</td>\n",
       "      <td>17471</td>\n",
       "      <td>1000</td>\n",
       "      <td>0.0</td>\n",
       "      <td>Y</td>\n",
       "    </tr>\n",
       "    <tr>\n",
       "      <th>3</th>\n",
       "      <td>3</td>\n",
       "      <td>ADAMIC_ADAR</td>\n",
       "      <td>0.86</td>\n",
       "      <td>0.67</td>\n",
       "      <td>0.28</td>\n",
       "      <td>0.18</td>\n",
       "      <td>0.53</td>\n",
       "      <td>0.47</td>\n",
       "      <td>16471</td>\n",
       "      <td>17471</td>\n",
       "      <td>1000</td>\n",
       "      <td>0.0</td>\n",
       "      <td>Y</td>\n",
       "    </tr>\n",
       "    <tr>\n",
       "      <th>4</th>\n",
       "      <td>4</td>\n",
       "      <td>RESOURCE_ALLOCATION</td>\n",
       "      <td>0.86</td>\n",
       "      <td>0.70</td>\n",
       "      <td>0.28</td>\n",
       "      <td>0.19</td>\n",
       "      <td>0.53</td>\n",
       "      <td>0.46</td>\n",
       "      <td>16471</td>\n",
       "      <td>17471</td>\n",
       "      <td>1000</td>\n",
       "      <td>0.0</td>\n",
       "      <td>Y</td>\n",
       "    </tr>\n",
       "    <tr>\n",
       "      <th>5</th>\n",
       "      <td>5</td>\n",
       "      <td>PREFERENTIAL_ATTACHMENT</td>\n",
       "      <td>0.86</td>\n",
       "      <td>0.63</td>\n",
       "      <td>0.28</td>\n",
       "      <td>0.19</td>\n",
       "      <td>0.53</td>\n",
       "      <td>0.42</td>\n",
       "      <td>16471</td>\n",
       "      <td>17471</td>\n",
       "      <td>1000</td>\n",
       "      <td>0.0</td>\n",
       "      <td>Y</td>\n",
       "    </tr>\n",
       "  </tbody>\n",
       "</table>\n",
       "</div>"
      ],
      "text/plain": [
       "   Unnamed: 0                Algorithm  RWC_pre  RWC_post  GMCK_pre  \\\n",
       "0           0              BETWEENNESS     0.86      0.72      0.28   \n",
       "1           1           EFFECTIVE_SIZE     0.86      0.70      0.28   \n",
       "2           2      JACCARD_COEFFICIENT     0.86      0.81      0.28   \n",
       "3           3              ADAMIC_ADAR     0.86      0.67      0.28   \n",
       "4           4      RESOURCE_ALLOCATION     0.86      0.70      0.28   \n",
       "5           5  PREFERENTIAL_ATTACHMENT     0.86      0.63      0.28   \n",
       "\n",
       "   GMCK_post  ForceAtlas_pre  ForceAtlas_post  Original_edges  New_edges  \\\n",
       "0       0.09            0.53             0.46           16471      17471   \n",
       "1       0.00            0.53             0.47           16471      17471   \n",
       "2       0.19            0.53             0.49           16471      17471   \n",
       "3       0.18            0.53             0.47           16471      17471   \n",
       "4       0.19            0.53             0.46           16471      17471   \n",
       "5       0.19            0.53             0.42           16471      17471   \n",
       "\n",
       "   Number_edges_added  Percentage_edges_added Controversial  \n",
       "0                1000                     0.0             Y  \n",
       "1                1000                     0.0             Y  \n",
       "2                1000                     0.0             Y  \n",
       "3                1000                     0.0             Y  \n",
       "4                1000                     0.0             Y  \n",
       "5                1000                     0.0             Y  "
      ]
     },
     "execution_count": 31,
     "metadata": {},
     "output_type": "execute_result"
    }
   ],
   "source": [
    "gunsense_gmck = results[(results[\"Controversial\"] == \"Y\" ) & (results[\"GMCK_pre\"] == 0.2817)].round(2)\n",
    "gunsense_gmck"
   ]
  },
  {
   "cell_type": "code",
   "execution_count": 32,
   "metadata": {
    "scrolled": true
   },
   "outputs": [
    {
     "name": "stdout",
     "output_type": "stream",
     "text": [
      "RESOURCE_ALLOCATION has to be added at position 0.19\n",
      "PREFERENTIAL_ATTACHMENT has to be added at position 0.19\n"
     ]
    },
    {
     "data": {
      "image/png": "[encoded data removed]",
      "text/plain": [
       "<Figure size 960x960 with 1 Axes>"
      ]
     },
     "metadata": {
      "needs_background": "light"
     },
     "output_type": "display_data"
    }
   ],
   "source": [
    "# Draw line\n",
    "def newline(p1, p2, color='black'):\n",
    "    ax = plt.gca()\n",
    "    l = mlines.Line2D([p1[0],p2[0]], [p1[1],p2[1]], color='green' if p1[1]-p2[1] > 0 else 'red', marker='o', markersize=6)\n",
    "    ax.add_line(l)\n",
    "    return l\n",
    "\n",
    "left_label = [str(c) + ', '+ str(y) for c, y in zip(gunsense_gmck.Algorithm, gunsense_gmck['GMCK_pre'])]\n",
    "right_label = [str(c) + ', '+ str(y) for c, y in zip(gunsense_gmck.Algorithm, gunsense_gmck['GMCK_post'])]\n",
    "klass = ['red' if (y1-y2) < 0 else 'green' for y1, y2 in zip(gunsense_gmck['GMCK_pre'], gunsense_gmck['GMCK_post'])]\n",
    "\n",
    "# left_label = [str(c) + ', '+ str(y) for c, y in zip(gunsense_gmck.Algorithm, gunsense_gmck['RWC_pre'])]\n",
    "# right_label = [str(c) + ', '+ str(y) for c, y in zip(gunsense_gmck.Algorithm, gunsense_gmck['RWC_post'])]\n",
    "# klass = ['red' if (y1-y2) < 0 else 'green' for y1, y2 in zip(gunsense_gmck['RWC_pre'], gunsense_gmck['RWC_post'])]\n",
    "\n",
    "# left_label = [str(c) + ', '+ str(y) for c, y in zip(gunsense_gmck.Algorithm, gunsense_gmck['ForceAtlas_pre'])]\n",
    "# right_label = [str(c) + ', '+ str(y) for c, y in zip(gunsense_gmck.Algorithm, gunsense_gmck['ForceAtlas_post'])]\n",
    "# klass = ['red' if (y1-y2) < 0 else 'green' for y1, y2 in zip(gunsense_gmck['ForceAtlas_pre'], gunsense_gmck['ForceAtlas_post'])]\n",
    "\n",
    "fig, ax = plt.subplots(1,1,figsize=(12,12), dpi= 80)\n",
    "\n",
    "# Vertical Lines\n",
    "ax.vlines(x=1, ymin=np.min(gunsense_gmck['GMCK_post'])-0.002, ymax=np.mean(gunsense_gmck['GMCK_pre'])+0.03, color='black', alpha=0.7, linewidth=1, linestyles='dotted')\n",
    "ax.vlines(x=3, ymin=np.min(gunsense_gmck['GMCK_post'])-0.002, ymax=np.mean(gunsense_gmck['GMCK_pre'])+0.03, color='black', alpha=0.7, linewidth=1, linestyles='dotted')\n",
    "\n",
    "# ax.vlines(x=1, ymin=np.min(gunsense_gmck['RWC_post'])-0.002, ymax=np.mean(gunsense_gmck['RWC_pre'])+0.005, color='black', alpha=0.7, linewidth=1, linestyles='dotted')\n",
    "# ax.vlines(x=3, ymin=np.min(gunsense_gmck['RWC_post'])-0.002, ymax=np.mean(gunsense_gmck['RWC_pre'])+0.005, color='black', alpha=0.7, linewidth=1, linestyles='dotted')\n",
    "\n",
    "# ax.vlines(x=1, ymin=np.min(gunsense_gmck['ForceAtlas_post'])-0.002, ymax=np.mean(gunsense_gmck['ForceAtlas_pre'])+0.05, color='black', alpha=0.7, linewidth=1, linestyles='dotted')\n",
    "# ax.vlines(x=3, ymin=np.min(gunsense_gmck['ForceAtlas_post'])-0.002, ymax=np.mean(gunsense_gmck['ForceAtlas_pre'])+0.05, color='black', alpha=0.7, linewidth=1, linestyles='dotted')\n",
    "\n",
    "# Points\n",
    "ax.scatter(y=gunsense_gmck['GMCK_pre'], x=np.repeat(1, gunsense_gmck.shape[0]), s=10, color='black', alpha=0.7)\n",
    "ax.scatter(y=gunsense_gmck['GMCK_post'], x=np.repeat(3, gunsense_gmck.shape[0]), s=10, color='black', alpha=0.7)\n",
    "\n",
    "# ax.scatter(y=gunsense_gmck['RWC_pre'], x=np.repeat(1, gunsense_gmck.shape[0]), s=10, color='black', alpha=0.7)\n",
    "# ax.scatter(y=gunsense_gmck['RWC_post'], x=np.repeat(3, gunsense_gmck.shape[0]), s=10, color='black', alpha=0.7)\n",
    "\n",
    "# ax.scatter(y=gunsense_gmck['ForceAtlas_pre'], x=np.repeat(1, gunsense_gmck.shape[0]), s=10, color='black', alpha=0.7)\n",
    "# ax.scatter(y=gunsense_gmck['ForceAtlas_post'], x=np.repeat(3, gunsense_gmck.shape[0]), s=10, color='black', alpha=0.7)\n",
    "\n",
    "label = dict()\n",
    "# Line Segmentsand Annotation\n",
    "# for p1, p2, c in zip(gunsense_gmck['ForceAtlas_pre'], gunsense_gmck['ForceAtlas_post'], gunsense_gmck['Algorithm']):\n",
    "# for p1, p2, c in zip(gunsense_gmck['RWC_pre'], gunsense_gmck['RWC_post'], gunsense_gmck['Algorithm']):\n",
    "for p1, p2, c in zip(gunsense_gmck['GMCK_pre'], gunsense_gmck['GMCK_post'], gunsense_gmck['Algorithm']):\n",
    "#     #newline([1,p1], [3,p2])\n",
    "#     if p2 == 0.3911:\n",
    "#         newline([1,round(p1,2)], [3,0.3925])\n",
    "#         ax.text(3+0.05, round(p2,2), c + ', ' + str(round(p2,2)), horizontalalignment='left', verticalalignment='center', fontdict={'size':10.2})\n",
    "#     elif p2 == 0.3896:\n",
    "#         newline([1,round(p1,2)], [3,0.387])\n",
    "#         ax.text(3+0.05, round(p2,2), c + ', ' + str(round(p2,2)), horizontalalignment='left', verticalalignment='center', fontdict={'size':10.2})\n",
    "#     else:\n",
    "    if p2 not in label.values():\n",
    "        newline([1,p1], [3,p2])\n",
    "        if p2 == 0.19:\n",
    "            ax.text(3+0.05, p2, \"RESOURCE_ALL & PREF_ATT & JACC_COEFF\" + ', ' + str(p2), horizontalalignment='left', verticalalignment='center', fontdict={'size':10.2})\n",
    "        elif p2 == -9:\n",
    "            ax.text(3+0.05, p2, \"BET + RESOURCE_ALL & BET + PREF_ATTACHMENT\" + ', ' + str(p2), horizontalalignment='left', verticalalignment='center', fontdict={'size':10.2})\n",
    "        else:    \n",
    "            ax.text(3+0.05, p2, c + ', ' + str(p2), horizontalalignment='left', verticalalignment='center', fontdict={'size':10.2})\n",
    "    else:\n",
    "        print(c + \" has to be added at position \" + str(p2))\n",
    "    label[c]=p2        \n",
    "\n",
    "# ax.text(3+0.05, 0.472, \"ADAMIC_ADAR\" + ', ' + str(0.47), horizontalalignment='left', verticalalignment='center', fontdict={'size':10.2})\n",
    "# ax.text(3+0.05, 0.462, \"RESOURCE_ALLOCATION\" + ', ' + str(0.46), horizontalalignment='left', verticalalignment='center', fontdict={'size':10.2})\n",
    "# ax.text(3+0.05, 0.649, \"BETWEENNESS + PREFERENTIAL_ATTACHMENT\" + ', ' + str(0.65), horizontalalignment='left', verticalalignment='center', fontdict={'size':10.2})\n",
    "# ax.text(3+0.05, 0.8902, \"BETWEENNESS + PREFERENTIAL_ATTACHMENT\" + ', ' + str(0.89), horizontalalignment='left', verticalalignment='center', fontdict={'size':10.2})\n",
    "# ax.text(3+0.05, 0.8901, \"BETWEENNESS + EFFECTIVE_SIZE\" + ', ' + str(0.89), horizontalalignment='left', verticalalignment='center', fontdict={'size':10.2})\n",
    "\n",
    "ax.text(1-0.05, np.mean(gunsense_gmck['GMCK_pre']), str(np.mean(gunsense_gmck['GMCK_pre'])), horizontalalignment='right', verticalalignment='center', fontdict={'size':10.2})\n",
    "# ax.text(1-0.05, np.mean(gunsense_gmck['RWC_pre']), str(round(np.mean(gunsense_gmck['RWC_pre']),2)), horizontalalignment='right', verticalalignment='center', fontdict={'size':10.2})\n",
    "# ax.text(1-0.05, np.mean(gunsense_gmck['ForceAtlas_pre']), str(round(np.mean(gunsense_gmck['ForceAtlas_pre']),2)), horizontalalignment='right', verticalalignment='center', fontdict={'size':10.2})\n",
    "\n",
    "# 'Before' and 'After' Annotations\n",
    "ax.text(1-0.05, np.mean(gunsense_gmck['GMCK_pre'])+0.03, 'BCC BEFORE', horizontalalignment='right', verticalalignment='center', fontdict={'size':14, 'weight':700})\n",
    "ax.text(3+0.05, np.mean(gunsense_gmck['GMCK_pre'])+0.03, 'BCC AFTER', horizontalalignment='left', verticalalignment='center', fontdict={'size':14, 'weight':700})\n",
    "\n",
    "# ax.text(1-0.05, np.mean(gunsense_gmck['RWC_pre'])+0.005, 'RWC BEFORE', horizontalalignment='right', verticalalignment='center', fontdict={'size':14, 'weight':700})\n",
    "# ax.text(3+0.05, np.mean(gunsense_gmck['RWC_pre'])+0.005, 'RWC AFTER', horizontalalignment='left', verticalalignment='center', fontdict={'size':14, 'weight':700})\n",
    "\n",
    "# ax.text(1-0.05, np.max(gunsense_gmck['ForceAtlas_pre'])+0.004, 'EC BEFORE', horizontalalignment='right', verticalalignment='center', fontdict={'size':14, 'weight':700})\n",
    "# ax.text(3+0.05, np.max(gunsense_gmck['ForceAtlas_pre'])+0.004, 'EC AFTER', horizontalalignment='left', verticalalignment='center', fontdict={'size':14, 'weight':700})\n",
    "\n",
    "# Decoration\n",
    "ax.set_title(\"Controversy before and after Link Prediction\", fontdict={'size':16})\n",
    "ax.set(xlim=(0,4), ylim=(np.min(gunsense_gmck['GMCK_post'])-0.005,np.max(gunsense_gmck['GMCK_pre'])+0.04))\n",
    "ax.set_xticks([1,3])\n",
    "ax.set_xticklabels([\"\", \"\"])\n",
    "# ax.set(xlim=(0,4), ylim=(0,14000), ylabel='Mean GDP Per Capita')\n",
    "plt.yticks([])\n",
    "\n",
    "# Lighten borders\n",
    "plt.gca().spines[\"top\"].set_alpha(.0)\n",
    "plt.gca().spines[\"bottom\"].set_alpha(.0)\n",
    "plt.gca().spines[\"right\"].set_alpha(.0)\n",
    "plt.gca().spines[\"left\"].set_alpha(.0)\n",
    "plt.show()\n",
    "path = \"C:/Users/comot/Documents/Thesis/pictures/appendix/\"\n",
    "chdir(path)\n",
    "#fig.savefig('controversy_reduction_russ_gmck.png', bbox_inches='tight')"
   ]
  },
  {
   "cell_type": "code",
   "execution_count": 47,
   "metadata": {
    "scrolled": true
   },
   "outputs": [
    {
     "name": "stdout",
     "output_type": "stream",
     "text": [
      "RESOURCE_ALLOCATION has to be added at position 0.28\n"
     ]
    },
    {
     "data": {
      "image/png": "[encoded data removed]",
      "text/plain": [
       "<Figure size 960x960 with 1 Axes>"
      ]
     },
     "metadata": {
      "needs_background": "light"
     },
     "output_type": "display_data"
    }
   ],
   "source": [
    "avg_gmck = results[(results[\"Controversial\"] == \"Y\" )].groupby(['Algorithm']).mean().sort_values(by='GMCK_post').round(2)\n",
    "left_label = [str(c) + ', '+ str(y) for c, y in zip(avg_gmck.index, avg_gmck['GMCK_pre'])]\n",
    "right_label = [str(c) + ', '+ str(y) for c, y in zip(avg_gmck.index, avg_gmck['GMCK_post'])]\n",
    "klass = ['red' if (y1-y2) < 0 else 'green' for y1, y2 in zip(avg_gmck['GMCK_pre'], avg_gmck['GMCK_post'])]\n",
    "\n",
    "fig, ax = plt.subplots(1,1,figsize=(12,12), dpi= 80)\n",
    "\n",
    "# Vertical Lines\n",
    "ax.vlines(x=1, ymin=0.10, ymax=0.35, color='black', alpha=0.7, linewidth=1, linestyles='dotted')\n",
    "ax.vlines(x=3, ymin=0.10, ymax=0.35, color='black', alpha=0.7, linewidth=1, linestyles='dotted')\n",
    "\n",
    "# Points\n",
    "# ax.scatter(y=avg_gmck['GMCK_pre'], x=np.repeat(1, avg_gmck.shape[0]), s=10, color='black', alpha=0.7)\n",
    "# ax.scatter(y=avg_gmck['GMCK_post'], x=np.repeat(3, avg_gmck.shape[0]), s=10, color='black', alpha=0.7)\n",
    "label = dict()\n",
    "# Line Segmentsand Annotation\n",
    "for p1, p2, c in zip(avg_gmck['GMCK_pre'], avg_gmck['GMCK_post'], avg_gmck.index):\n",
    "    #newline([1,p1], [3,p2])\n",
    "#     if p2 == 0.27919999999999995 or p2 == 0.28136666666666665:\n",
    "#         newline([1,p1], [3,0.283])\n",
    "#         ax.text(3+0.05, 0.283, \"JACCARD_COEFF & RESOURCE_ALLOCATION\" + ', ' + str(round(p2,2)), horizontalalignment='left', verticalalignment='center', fontdict={'size':10.2}, alpha = 0.7)\n",
    "#     else:\n",
    "    if p2 not in label.values():\n",
    "        newline([1,p1], [3,p2])\n",
    "        if p2 == 0.28:\n",
    "            ax.text(3+0.05, p2, \"RESOURCE_ALL & JACCARD_COEFF\" + ', ' + str(0.28), horizontalalignment='left', verticalalignment='center', fontdict={'size':10.2})\n",
    "        else:    \n",
    "            ax.text(3+0.05, p2, c + ', ' + str(p2), horizontalalignment='left', verticalalignment='center', fontdict={'size':10.2})\n",
    "    else:\n",
    "        print(c + \" has to be added at position \" + str(p2))\n",
    "    label[c]=p2\n",
    "    \n",
    "ax.text(1-0.05, 0.33, str(0.33), horizontalalignment='right', verticalalignment='center', fontdict={'size':10.2})\n",
    "# 'Before' and 'After' Annotations\n",
    "ax.text(1-0.05, 0.35, 'BCC BEFORE', horizontalalignment='right', verticalalignment='center', fontdict={'size':14, 'weight':700})\n",
    "ax.text(3+0.05, 0.35, 'BCC AFTER', horizontalalignment='left', verticalalignment='center', fontdict={'size':14, 'weight':700})\n",
    "\n",
    "# Decoration\n",
    "ax.set_title(\"Controversy before and after Link Prediction \\n average values\", fontdict={'size':16})\n",
    "ax.set(xlim=(0,4), ylim=(0.10,0.37))\n",
    "ax.set_xticks([1,3])\n",
    "ax.set_xticklabels([\"\", \"\"])\n",
    "# ax.set(xlim=(0,4), ylim=(0,14000), ylabel='Mean GDP Per Capita')\n",
    "plt.yticks(np.arange(0, 0.35, 1), fontsize=10)\n",
    "\n",
    "# Lighten borders\n",
    "plt.gca().spines[\"top\"].set_alpha(.0)\n",
    "plt.gca().spines[\"bottom\"].set_alpha(.0)\n",
    "plt.gca().spines[\"right\"].set_alpha(.0)\n",
    "plt.gca().spines[\"left\"].set_alpha(.0)\n",
    "plt.show()\n",
    "fig.savefig('controversy_reduction_gmck_avg.png', bbox_inches='tight')"
   ]
  },
  {
   "cell_type": "code",
   "execution_count": 34,
   "metadata": {},
   "outputs": [
    {
     "data": {
      "text/html": [
       "<div>\n",
       "<style scoped>\n",
       "    .dataframe tbody tr th:only-of-type {\n",
       "        vertical-align: middle;\n",
       "    }\n",
       "\n",
       "    .dataframe tbody tr th {\n",
       "        vertical-align: top;\n",
       "    }\n",
       "\n",
       "    .dataframe thead th {\n",
       "        text-align: right;\n",
       "    }\n",
       "</style>\n",
       "<table border=\"1\" class=\"dataframe\">\n",
       "  <thead>\n",
       "    <tr style=\"text-align: right;\">\n",
       "      <th></th>\n",
       "      <th>RWC_pre</th>\n",
       "      <th>RWC_post</th>\n",
       "      <th>GMCK_pre</th>\n",
       "      <th>GMCK_post</th>\n",
       "      <th>ForceAtlas_pre</th>\n",
       "      <th>ForceAtlas_post</th>\n",
       "    </tr>\n",
       "    <tr>\n",
       "      <th>Algorithm</th>\n",
       "      <th></th>\n",
       "      <th></th>\n",
       "      <th></th>\n",
       "      <th></th>\n",
       "      <th></th>\n",
       "      <th></th>\n",
       "    </tr>\n",
       "  </thead>\n",
       "  <tbody>\n",
       "    <tr>\n",
       "      <th>ADAMIC_ADAR</th>\n",
       "      <td>0.9033</td>\n",
       "      <td>0.8192</td>\n",
       "      <td>0.3323</td>\n",
       "      <td>0.2721</td>\n",
       "      <td>0.594</td>\n",
       "      <td>0.5577</td>\n",
       "    </tr>\n",
       "    <tr>\n",
       "      <th>BETWEENNESS</th>\n",
       "      <td>0.9033</td>\n",
       "      <td>0.8396</td>\n",
       "      <td>0.3323</td>\n",
       "      <td>0.2181</td>\n",
       "      <td>0.594</td>\n",
       "      <td>0.5466</td>\n",
       "    </tr>\n",
       "    <tr>\n",
       "      <th>EFFECTIVE_SIZE</th>\n",
       "      <td>0.9033</td>\n",
       "      <td>0.8306</td>\n",
       "      <td>0.3323</td>\n",
       "      <td>0.1253</td>\n",
       "      <td>0.594</td>\n",
       "      <td>0.5434</td>\n",
       "    </tr>\n",
       "    <tr>\n",
       "      <th>JACCARD_COEFFICIENT</th>\n",
       "      <td>0.9033</td>\n",
       "      <td>0.8789</td>\n",
       "      <td>0.3323</td>\n",
       "      <td>0.2792</td>\n",
       "      <td>0.594</td>\n",
       "      <td>0.5728</td>\n",
       "    </tr>\n",
       "    <tr>\n",
       "      <th>PREFERENTIAL_ATTACHMENT</th>\n",
       "      <td>0.9033</td>\n",
       "      <td>0.8064</td>\n",
       "      <td>0.3323</td>\n",
       "      <td>0.2931</td>\n",
       "      <td>0.594</td>\n",
       "      <td>0.5199</td>\n",
       "    </tr>\n",
       "    <tr>\n",
       "      <th>RESOURCE_ALLOCATION</th>\n",
       "      <td>0.9033</td>\n",
       "      <td>0.8292</td>\n",
       "      <td>0.3323</td>\n",
       "      <td>0.2814</td>\n",
       "      <td>0.594</td>\n",
       "      <td>0.5473</td>\n",
       "    </tr>\n",
       "  </tbody>\n",
       "</table>\n",
       "</div>"
      ],
      "text/plain": [
       "                         RWC_pre  RWC_post  GMCK_pre  GMCK_post  \\\n",
       "Algorithm                                                         \n",
       "ADAMIC_ADAR               0.9033    0.8192    0.3323     0.2721   \n",
       "BETWEENNESS               0.9033    0.8396    0.3323     0.2181   \n",
       "EFFECTIVE_SIZE            0.9033    0.8306    0.3323     0.1253   \n",
       "JACCARD_COEFFICIENT       0.9033    0.8789    0.3323     0.2792   \n",
       "PREFERENTIAL_ATTACHMENT   0.9033    0.8064    0.3323     0.2931   \n",
       "RESOURCE_ALLOCATION       0.9033    0.8292    0.3323     0.2814   \n",
       "\n",
       "                         ForceAtlas_pre  ForceAtlas_post  \n",
       "Algorithm                                                 \n",
       "ADAMIC_ADAR                       0.594           0.5577  \n",
       "BETWEENNESS                       0.594           0.5466  \n",
       "EFFECTIVE_SIZE                    0.594           0.5434  \n",
       "JACCARD_COEFFICIENT               0.594           0.5728  \n",
       "PREFERENTIAL_ATTACHMENT           0.594           0.5199  \n",
       "RESOURCE_ALLOCATION               0.594           0.5473  "
      ]
     },
     "execution_count": 34,
     "metadata": {},
     "output_type": "execute_result"
    }
   ],
   "source": [
    "tmp = results[(results[\"Controversial\"] == \"Y\" )].groupby(['Algorithm']).mean().round(4)\n",
    "tmp.drop('Unnamed: 0', axis=1, inplace=True)\n",
    "tmp = tmp[['RWC_pre', 'RWC_post', 'GMCK_pre', 'GMCK_post', 'ForceAtlas_pre', 'ForceAtlas_post']]\n",
    "tmp"
   ]
  },
  {
   "cell_type": "code",
   "execution_count": 35,
   "metadata": {},
   "outputs": [],
   "source": [
    "tmp[\"RWC\"] = tmp.RWC_pre - tmp.RWC_post\n",
    "tmp[\"BCC\"] = tmp.GMCK_pre - tmp.GMCK_post\n",
    "tmp[\"EC\"] = tmp.ForceAtlas_pre - tmp.ForceAtlas_post\n",
    "tmp_delta = tmp[[\"RWC\",\"BCC\",\"EC\"]]\n",
    "tmp_delta = tmp_delta.transpose()\n",
    "tmp_delta.rename(columns={'JACCARD_COEFFICIENT': 'JACCARD_COEFF', 'PREFERENTIAL_ATTACHMENT': 'PREF_ATTACHMENT','RESOURCE_ALLOCATION':'RESOURCE_ALL'}, inplace=True)\n"
   ]
  },
  {
   "cell_type": "code",
   "execution_count": 36,
   "metadata": {},
   "outputs": [
    {
     "data": {
      "text/html": [
       "<div>\n",
       "<style scoped>\n",
       "    .dataframe tbody tr th:only-of-type {\n",
       "        vertical-align: middle;\n",
       "    }\n",
       "\n",
       "    .dataframe tbody tr th {\n",
       "        vertical-align: top;\n",
       "    }\n",
       "\n",
       "    .dataframe thead th {\n",
       "        text-align: right;\n",
       "    }\n",
       "</style>\n",
       "<table border=\"1\" class=\"dataframe\">\n",
       "  <thead>\n",
       "    <tr style=\"text-align: right;\">\n",
       "      <th>Algorithm</th>\n",
       "      <th>ADAMIC_ADAR</th>\n",
       "      <th>BETWEENNESS</th>\n",
       "      <th>EFFECTIVE_SIZE</th>\n",
       "      <th>JACCARD_COEFF</th>\n",
       "      <th>PREF_ATTACHMENT</th>\n",
       "      <th>RESOURCE_ALL</th>\n",
       "    </tr>\n",
       "  </thead>\n",
       "  <tbody>\n",
       "    <tr>\n",
       "      <th>RWC</th>\n",
       "      <td>0.0841</td>\n",
       "      <td>0.0637</td>\n",
       "      <td>0.0727</td>\n",
       "      <td>0.0244</td>\n",
       "      <td>0.0969</td>\n",
       "      <td>0.0741</td>\n",
       "    </tr>\n",
       "    <tr>\n",
       "      <th>BCC</th>\n",
       "      <td>0.0602</td>\n",
       "      <td>0.1142</td>\n",
       "      <td>0.2070</td>\n",
       "      <td>0.0531</td>\n",
       "      <td>0.0392</td>\n",
       "      <td>0.0509</td>\n",
       "    </tr>\n",
       "    <tr>\n",
       "      <th>EC</th>\n",
       "      <td>0.0363</td>\n",
       "      <td>0.0474</td>\n",
       "      <td>0.0506</td>\n",
       "      <td>0.0212</td>\n",
       "      <td>0.0741</td>\n",
       "      <td>0.0467</td>\n",
       "    </tr>\n",
       "  </tbody>\n",
       "</table>\n",
       "</div>"
      ],
      "text/plain": [
       "Algorithm  ADAMIC_ADAR  BETWEENNESS  EFFECTIVE_SIZE  JACCARD_COEFF  \\\n",
       "RWC             0.0841       0.0637          0.0727         0.0244   \n",
       "BCC             0.0602       0.1142          0.2070         0.0531   \n",
       "EC              0.0363       0.0474          0.0506         0.0212   \n",
       "\n",
       "Algorithm  PREF_ATTACHMENT  RESOURCE_ALL  \n",
       "RWC                 0.0969        0.0741  \n",
       "BCC                 0.0392        0.0509  \n",
       "EC                  0.0741        0.0467  "
      ]
     },
     "execution_count": 36,
     "metadata": {},
     "output_type": "execute_result"
    }
   ],
   "source": [
    "tmp_delta"
   ]
  },
  {
   "cell_type": "code",
   "execution_count": 37,
   "metadata": {
    "scrolled": true
   },
   "outputs": [
    {
     "data": {
      "text/plain": [
       "([<matplotlib.axis.YTick at 0x1dc13bb6d30>,\n",
       "  <matplotlib.axis.YTick at 0x1dc13bb6ac8>,\n",
       "  <matplotlib.axis.YTick at 0x1dc13bb51d0>,\n",
       "  <matplotlib.axis.YTick at 0x1dc142a5c50>,\n",
       "  <matplotlib.axis.YTick at 0x1dc142ac198>,\n",
       "  <matplotlib.axis.YTick at 0x1dc142ac630>,\n",
       "  <matplotlib.axis.YTick at 0x1dc142acb00>,\n",
       "  <matplotlib.axis.YTick at 0x1dc142acd30>,\n",
       "  <matplotlib.axis.YTick at 0x1dc13bda518>,\n",
       "  <matplotlib.axis.YTick at 0x1dc13bdaa20>,\n",
       "  <matplotlib.axis.YTick at 0x1dc142acf98>,\n",
       "  <matplotlib.axis.YTick at 0x1dc142a5710>],\n",
       " <a list of 12 Text yticklabel objects>)"
      ]
     },
     "execution_count": 37,
     "metadata": {},
     "output_type": "execute_result"
    },
    {
     "data": {
      "image/png": "[encoded data removed]",
      "text/plain": [
       "<Figure size 640x640 with 1 Axes>"
      ]
     },
     "metadata": {
      "needs_background": "light"
     },
     "output_type": "display_data"
    }
   ],
   "source": [
    "plt.subplots(1,1,figsize=(8,8), dpi=80)\n",
    "plt.scatter([1,2,3],[0.1024, 0.2125,0.0795] ,marker=\"*\", c= \"White\", s=120, label=\"BEST\", linewidths= 1, edgecolors= \"black\")\n",
    "for c in tmp_delta.columns:\n",
    "    plt.scatter([1,2,3], tmp_delta[c], label = c, s=50)\n",
    "plt.legend(frameon=True, framealpha=1, shadow=True, borderpad=0.5)\n",
    "for c in tmp_delta.columns:\n",
    "    plt.plot([1,2,3], tmp_delta[c], '-.k', alpha = 0.25)\n",
    "plt.xticks([1,2,3], ['RWC', 'BCC', 'EC'], size=12)\n",
    "plt.ylabel('Controversy Reduction',fontdict={'size':14})\n",
    "plt.xlabel(\"Controversy Measure\", fontdict={'size':12})\n",
    "plt.yticks(np.arange(0,0.24,0.02))\n",
    "#plt.savefig(\"final_evaluations.png\", bbox_inches='tight')"
   ]
  },
  {
   "cell_type": "code",
   "execution_count": 38,
   "metadata": {
    "scrolled": true
   },
   "outputs": [
    {
     "data": {
      "text/plain": [
       "<matplotlib.legend.Legend at 0x1dc13bc50b8>"
      ]
     },
     "execution_count": 38,
     "metadata": {},
     "output_type": "execute_result"
    },
    {
     "data": {
      "image/png": "[encoded data removed]",
      "text/plain": [
       "<Figure size 648x648 with 1 Axes>"
      ]
     },
     "metadata": {
      "needs_background": "light"
     },
     "output_type": "display_data"
    }
   ],
   "source": [
    "ax_final = tmp_delta.plot(kind=\"bar\", figsize=(9,9), rot = 360, fontsize = 12, yticks=np.arange(0,0.24,0.02))\n",
    "ax_final.set_ylabel(\"Average Reduction\", fontdict={'size':14})\n",
    "ax_final.legend(loc=\"best\", frameon=True, framealpha=1, shadow=True, borderpad=1, fontsize=\"medium\", fancybox = True)"
   ]
  },
  {
   "cell_type": "code",
   "execution_count": 39,
   "metadata": {},
   "outputs": [],
   "source": [
    "# fig = ax_final.get_figure()\n",
    "# fig.savefig(\"final_comparison.png\", bbox_inches='tight')"
   ]
  },
  {
   "cell_type": "code",
   "execution_count": 40,
   "metadata": {
    "scrolled": true
   },
   "outputs": [
    {
     "data": {
      "text/html": [
       "<div>\n",
       "<style scoped>\n",
       "    .dataframe tbody tr th:only-of-type {\n",
       "        vertical-align: middle;\n",
       "    }\n",
       "\n",
       "    .dataframe tbody tr th {\n",
       "        vertical-align: top;\n",
       "    }\n",
       "\n",
       "    .dataframe thead th {\n",
       "        text-align: right;\n",
       "    }\n",
       "</style>\n",
       "<table border=\"1\" class=\"dataframe\">\n",
       "  <thead>\n",
       "    <tr style=\"text-align: right;\">\n",
       "      <th></th>\n",
       "      <th>Unnamed: 0</th>\n",
       "      <th>RWC_pre</th>\n",
       "      <th>RWC_post</th>\n",
       "      <th>GMCK_pre</th>\n",
       "      <th>GMCK_post</th>\n",
       "      <th>ForceAtlas_pre</th>\n",
       "      <th>ForceAtlas_post</th>\n",
       "      <th>Original_edges</th>\n",
       "      <th>New_edges</th>\n",
       "      <th>Number_edges_added</th>\n",
       "      <th>Percentage_edges_added</th>\n",
       "    </tr>\n",
       "    <tr>\n",
       "      <th>Algorithm</th>\n",
       "      <th></th>\n",
       "      <th></th>\n",
       "      <th></th>\n",
       "      <th></th>\n",
       "      <th></th>\n",
       "      <th></th>\n",
       "      <th></th>\n",
       "      <th></th>\n",
       "      <th></th>\n",
       "      <th></th>\n",
       "      <th></th>\n",
       "    </tr>\n",
       "  </thead>\n",
       "  <tbody>\n",
       "    <tr>\n",
       "      <th>ADAMIC_ADAR</th>\n",
       "      <td>3</td>\n",
       "      <td>0.9033</td>\n",
       "      <td>0.8192</td>\n",
       "      <td>0.3323</td>\n",
       "      <td>0.2721</td>\n",
       "      <td>0.594</td>\n",
       "      <td>0.5577</td>\n",
       "      <td>139149</td>\n",
       "      <td>140149</td>\n",
       "      <td>1000</td>\n",
       "      <td>0.0007</td>\n",
       "    </tr>\n",
       "    <tr>\n",
       "      <th>BETWEENNESS</th>\n",
       "      <td>0</td>\n",
       "      <td>0.9033</td>\n",
       "      <td>0.8396</td>\n",
       "      <td>0.3323</td>\n",
       "      <td>0.2181</td>\n",
       "      <td>0.594</td>\n",
       "      <td>0.5466</td>\n",
       "      <td>139149</td>\n",
       "      <td>140149</td>\n",
       "      <td>1000</td>\n",
       "      <td>0.0007</td>\n",
       "    </tr>\n",
       "    <tr>\n",
       "      <th>EFFECTIVE_SIZE</th>\n",
       "      <td>1</td>\n",
       "      <td>0.9033</td>\n",
       "      <td>0.8306</td>\n",
       "      <td>0.3323</td>\n",
       "      <td>0.1253</td>\n",
       "      <td>0.594</td>\n",
       "      <td>0.5434</td>\n",
       "      <td>139149</td>\n",
       "      <td>140149</td>\n",
       "      <td>1000</td>\n",
       "      <td>0.0007</td>\n",
       "    </tr>\n",
       "    <tr>\n",
       "      <th>JACCARD_COEFFICIENT</th>\n",
       "      <td>2</td>\n",
       "      <td>0.9033</td>\n",
       "      <td>0.8789</td>\n",
       "      <td>0.3323</td>\n",
       "      <td>0.2792</td>\n",
       "      <td>0.594</td>\n",
       "      <td>0.5728</td>\n",
       "      <td>139149</td>\n",
       "      <td>140149</td>\n",
       "      <td>1000</td>\n",
       "      <td>0.0007</td>\n",
       "    </tr>\n",
       "    <tr>\n",
       "      <th>PREFERENTIAL_ATTACHMENT</th>\n",
       "      <td>5</td>\n",
       "      <td>0.9033</td>\n",
       "      <td>0.8064</td>\n",
       "      <td>0.3323</td>\n",
       "      <td>0.2931</td>\n",
       "      <td>0.594</td>\n",
       "      <td>0.5199</td>\n",
       "      <td>139149</td>\n",
       "      <td>140149</td>\n",
       "      <td>1000</td>\n",
       "      <td>0.0007</td>\n",
       "    </tr>\n",
       "    <tr>\n",
       "      <th>RESOURCE_ALLOCATION</th>\n",
       "      <td>4</td>\n",
       "      <td>0.9033</td>\n",
       "      <td>0.8292</td>\n",
       "      <td>0.3323</td>\n",
       "      <td>0.2814</td>\n",
       "      <td>0.594</td>\n",
       "      <td>0.5473</td>\n",
       "      <td>139149</td>\n",
       "      <td>140149</td>\n",
       "      <td>1000</td>\n",
       "      <td>0.0007</td>\n",
       "    </tr>\n",
       "  </tbody>\n",
       "</table>\n",
       "</div>"
      ],
      "text/plain": [
       "                         Unnamed: 0  RWC_pre  RWC_post  GMCK_pre  GMCK_post  \\\n",
       "Algorithm                                                                     \n",
       "ADAMIC_ADAR                       3   0.9033    0.8192    0.3323     0.2721   \n",
       "BETWEENNESS                       0   0.9033    0.8396    0.3323     0.2181   \n",
       "EFFECTIVE_SIZE                    1   0.9033    0.8306    0.3323     0.1253   \n",
       "JACCARD_COEFFICIENT               2   0.9033    0.8789    0.3323     0.2792   \n",
       "PREFERENTIAL_ATTACHMENT           5   0.9033    0.8064    0.3323     0.2931   \n",
       "RESOURCE_ALLOCATION               4   0.9033    0.8292    0.3323     0.2814   \n",
       "\n",
       "                         ForceAtlas_pre  ForceAtlas_post  Original_edges  \\\n",
       "Algorithm                                                                  \n",
       "ADAMIC_ADAR                       0.594           0.5577          139149   \n",
       "BETWEENNESS                       0.594           0.5466          139149   \n",
       "EFFECTIVE_SIZE                    0.594           0.5434          139149   \n",
       "JACCARD_COEFFICIENT               0.594           0.5728          139149   \n",
       "PREFERENTIAL_ATTACHMENT           0.594           0.5199          139149   \n",
       "RESOURCE_ALLOCATION               0.594           0.5473          139149   \n",
       "\n",
       "                         New_edges  Number_edges_added  Percentage_edges_added  \n",
       "Algorithm                                                                       \n",
       "ADAMIC_ADAR                 140149                1000                  0.0007  \n",
       "BETWEENNESS                 140149                1000                  0.0007  \n",
       "EFFECTIVE_SIZE              140149                1000                  0.0007  \n",
       "JACCARD_COEFFICIENT         140149                1000                  0.0007  \n",
       "PREFERENTIAL_ATTACHMENT     140149                1000                  0.0007  \n",
       "RESOURCE_ALLOCATION         140149                1000                  0.0007  "
      ]
     },
     "execution_count": 40,
     "metadata": {},
     "output_type": "execute_result"
    }
   ],
   "source": [
    "results[(results[\"Controversial\"] == \"Y\" )].groupby(['Algorithm']).mean().round(4)\n",
    "# aggregated[(aggregated[\"Algorithm\"] == \"BETWEENNESS\") | (aggregated[\"Algorithm\"] == \"EFFECTIVE_SIZE\")]"
   ]
  },
  {
   "cell_type": "code",
   "execution_count": 41,
   "metadata": {},
   "outputs": [],
   "source": [
    "aggregated = tmp_delta.transpose()\n",
    "aggregated['MEASURE'] = np.where((aggregated.index==\"BETWEENNESS\") | (aggregated.index==\"EFFECTIVE_SIZE\"), 'Communicability', 'Similarity')"
   ]
  },
  {
   "cell_type": "code",
   "execution_count": 42,
   "metadata": {},
   "outputs": [
    {
     "data": {
      "text/plain": [
       "<matplotlib.legend.Legend at 0x1dc138154e0>"
      ]
     },
     "execution_count": 42,
     "metadata": {},
     "output_type": "execute_result"
    },
    {
     "data": {
      "image/png": "[encoded data removed]",
      "text/plain": [
       "<Figure size 648x648 with 1 Axes>"
      ]
     },
     "metadata": {
      "needs_background": "light"
     },
     "output_type": "display_data"
    }
   ],
   "source": [
    "ax_final1 = aggregated.groupby(\"MEASURE\").mean().transpose().plot(kind=\"bar\", figsize=(9,9), rot = 360, fontsize = 12, yticks=np.arange(0,0.24,0.02))\n",
    "ax_final1.set_ylabel(\"Average Reduction\", fontdict={'size':14})\n",
    "ax_final1.legend(loc=\"best\", frameon=True, framealpha=1, shadow=True, borderpad=1, fontsize=\"large\", fancybox = True)\n",
    "# fig = ax_final1.get_figure()\n",
    "# fig.savefig(\"final_comparison_aggregated.png\", bbox_inches='tight')"
   ]
  }
 ],
 "metadata": {
  "kernelspec": {
   "display_name": "Python 3",
   "language": "python",
   "name": "python3"
  },
  "language_info": {
   "codemirror_mode": {
    "name": "ipython",
    "version": 3
   },
   "file_extension": ".py",
   "mimetype": "text/x-python",
   "name": "python",
   "nbconvert_exporter": "python",
   "pygments_lexer": "ipython3",
   "version": "3.7.1"
  }
 },
 "nbformat": 4,
 "nbformat_minor": 2
}
